{
 "cells": [
  {
   "cell_type": "markdown",
   "metadata": {},
   "source": [
    "# Self-Driving Car Engineer Nanodegree\n",
    "## Deep Learning\n",
    "## Project: Build a Traffic Sign Recognition Classifier"
   ]
  },
  {
   "cell_type": "markdown",
   "metadata": {},
   "source": [
    "## Step 0: Load The Data"
   ]
  },
  {
   "cell_type": "code",
   "execution_count": 1,
   "metadata": {
    "collapsed": false
   },
   "outputs": [],
   "source": [
    "# Utility packages\n",
    "import numpy as np\n",
    "\n",
    "# Printing helper packages\n",
    "import random\n",
    "import matplotlib.pyplot as plt\n",
    "%matplotlib inline\n",
    "\n",
    "# Load pickled data\n",
    "import pickle\n",
    "\n",
    "# Load training and testing data\n",
    "\n",
    "training_file = 'train.p'\n",
    "testing_file = 'test.p'\n",
    "\n",
    "with open(training_file, mode='rb') as f:\n",
    "    train = pickle.load(f)\n",
    "with open(testing_file, mode='rb') as f:\n",
    "    test = pickle.load(f)\n",
    "    \n",
    "X_train, y_train = train['features'], train['labels']\n",
    "X_test, y_test = test['features'], test['labels']"
   ]
  },
  {
   "cell_type": "markdown",
   "metadata": {},
   "source": [
    "## Step 1: Dataset Summary & Exploration\n",
    "\n",
    "### Provide a Basic Summary of the Data Set Using Python, Numpy and/or Pandas"
   ]
  },
  {
   "cell_type": "code",
   "execution_count": 2,
   "metadata": {
    "collapsed": false
   },
   "outputs": [
    {
     "name": "stdout",
     "output_type": "stream",
     "text": [
      "Number of training examples = 39209\n",
      "Number of testing examples = 12630\n",
      "Image data shape = (32, 32, 3)\n",
      "Number of classes = 43\n"
     ]
    }
   ],
   "source": [
    "### test set to ensure every thing is valid\n",
    "assert(len(X_train) == len(y_train))\n",
    "assert(len(X_test) == len(y_test))\n",
    "\n",
    "### Data Set Summary\n",
    "\n",
    "# Number of training examples\n",
    "n_train = len(X_train)\n",
    "\n",
    "# Number of testing examples.\n",
    "n_test = len(X_test)\n",
    "\n",
    "# What's the shape of an traffic sign image?\n",
    "image_shape = X_train[0].shape\n",
    "\n",
    "# How many unique classes/labels there are in the dataset.\n",
    "n_classes = len(np.unique(np.concatenate((y_train, y_test), axis=0), return_counts=True)[0])\n",
    "\n",
    "print(\"Number of training examples =\", n_train)\n",
    "print(\"Number of testing examples =\", n_test)\n",
    "print(\"Image data shape =\", image_shape)\n",
    "print(\"Number of classes =\", n_classes)"
   ]
  },
  {
   "cell_type": "markdown",
   "metadata": {},
   "source": [
    "### Include an exploratory visualization of the dataset"
   ]
  },
  {
   "cell_type": "code",
   "execution_count": 3,
   "metadata": {
    "collapsed": false
   },
   "outputs": [
    {
     "data": {
      "image/png": "[encoded data removed]",
      "text/plain": [
       "<matplotlib.figure.Figure at 0x7fc0903f6940>"
      ]
     },
     "metadata": {},
     "output_type": "display_data"
    }
   ],
   "source": [
    "#The work on this cell is based on this\n",
    "#https://github.com/deacons2016/traffic_signs/blob/master/Traffic_Sign_Classifier.ipynb\n",
    "def load_label_file(file):\n",
    "    lines = open(file).readlines()[1:]\n",
    "    lines = [line.strip().split(\",\") for line in lines]\n",
    "    label_descs = dict([ (int(classid), desc) for classid, desc in lines])\n",
    "    return label_descs\n",
    "\n",
    "label_descriptions = load_label_file(\"signnames.csv\")\n",
    "\n",
    "# the histogram of the training data\n",
    "n, bins, patches = plt.hist(y_train, n_classes, facecolor='green')\n",
    "\n",
    "plt.xlabel('Signs')\n",
    "plt.ylabel('Occurrences')\n",
    "plt.title('Number of Occurrences in Training Set')\n",
    "plt.grid(True)\n",
    "\n",
    "plt.show()"
   ]
  },
  {
   "cell_type": "code",
   "execution_count": 4,
   "metadata": {
    "collapsed": false
   },
   "outputs": [
    {
     "name": "stdout",
     "output_type": "stream",
     "text": [
      "Road narrows on the right 24\n"
     ]
    },
    {
     "data": {
      "image/png": "[encoded data removed]",
      "text/plain": [
       "<matplotlib.figure.Figure at 0x7fc0900903c8>"
      ]
     },
     "metadata": {},
     "output_type": "display_data"
    }
   ],
   "source": [
    "#Show random sample of training set\n",
    "index = random.randint(0, len(X_train))\n",
    "image = X_train[index].squeeze()\n",
    "\n",
    "plt.figure(figsize=(1,1))\n",
    "plt.imshow(image)\n",
    "print(label_descriptions.get(y_train[index]),y_train[index])"
   ]
  },
  {
   "cell_type": "markdown",
   "metadata": {},
   "source": [
    "\n",
    "## Step 2: Design and Test a Model Architecture\n",
    "\n",
    "### Pre-process the Data Set (normalization, grayscale, etc.)\n",
    "\n",
    "I did four things for data preprocessing:\n",
    "- Convert RGB to YUV and use Y channel only.\n",
    "- Normalize Y channel\n",
    "- Create augmented images based on translating image and rotating it.\n",
    "- Write Python generator function that create 5 new images for each patch and apply the steps mentioned above.\n",
    "\n",
    "\n",
    "Data preprocessing step is inpired by this work:\n",
    "http://yann.lecun.com/exdb/publis/pdf/sermanet-ijcnn-11.pdf\n",
    "\n",
    "#### This will increase batch size from 128 to (5 * 128) + 128 = 768\n",
    "\n",
    "\n"
   ]
  },
  {
   "cell_type": "code",
   "execution_count": 5,
   "metadata": {
    "collapsed": true
   },
   "outputs": [],
   "source": [
    "### shuffle data\n",
    "from sklearn.utils import shuffle\n",
    "\n",
    "X_train, y_train = shuffle(X_train, y_train)"
   ]
  },
  {
   "cell_type": "code",
   "execution_count": 6,
   "metadata": {
    "collapsed": false
   },
   "outputs": [],
   "source": [
    "### add helper functions to randomly translate and rotate images\n",
    "import cv2\n",
    "\n",
    "def translateImage(image):\n",
    "    t_x = (np.random.randn(1)*.5)[0]\n",
    "    t_y = (np.random.randn(1)*.5)[0]\n",
    "    #print(t_x,t_y)\n",
    "    rows,cols,_ = image.shape\n",
    "    M = np.float32([[1,0,t_x],[0,1,t_y]])\n",
    "    dst = cv2.warpAffine(image,M,(cols,rows))\n",
    "    return dst\n",
    "\n",
    "def rotateImage(image):\n",
    "    theta = (np.random.randn(1)*5)[0]\n",
    "    #print(theta)\n",
    "    rows,cols,_ = image.shape\n",
    "    M = cv2.getRotationMatrix2D((cols/2,rows/2),theta,1)\n",
    "    dst = cv2.warpAffine(image,M,(cols,rows))\n",
    "    return dst\n"
   ]
  },
  {
   "cell_type": "code",
   "execution_count": 7,
   "metadata": {
    "collapsed": true
   },
   "outputs": [],
   "source": [
    "### add helper function to create 5 new augmented images for each image\n",
    "\n",
    "def generateAugmentedImages(X_data,y_data):\n",
    "    num_images = 5 * len(X_data)\n",
    "    x_aug = np.zeros(shape=(num_images,32,32,3)).astype(np.uint8)\n",
    "    y_aug = np.zeros(shape=(num_images))\n",
    "    aug_idx = 0\n",
    "    for idx, img in enumerate(X_data):\n",
    "        lbl = y_data[idx]\n",
    "        for itr in range(5):\n",
    "            new_image = translateImage(rotateImage(img))\n",
    "            x_aug[aug_idx] = new_image\n",
    "            y_aug[aug_idx] = lbl\n",
    "            aug_idx = aug_idx + 1\n",
    "    X_data = np.concatenate((X_data, x_aug), axis=0)\n",
    "    y_data = np.concatenate((y_data, y_aug), axis=0)\n",
    "    \n",
    "    return X_data, y_data\n",
    "    \n",
    "\n",
    "#x,y = generateAugmentedImages(X_train[0:128],y_train[0:128])\n",
    "\n",
    "#print(len(x),len(y))"
   ]
  },
  {
   "cell_type": "code",
   "execution_count": 8,
   "metadata": {
    "collapsed": true
   },
   "outputs": [],
   "source": [
    "### convert to YUV, extract Y and normalize it\n",
    "\n",
    "def imagestoY(batch_x):\n",
    "    for x in batch_x:\n",
    "        img_out = cv2.cvtColor(x, cv2.COLOR_RGB2YUV)\n",
    "        img_out = img_out[:,:,0].reshape(32,32,1)\n",
    "        img_out = img_out - np.mean(img_out)\n",
    "        yield img_out"
   ]
  },
  {
   "cell_type": "code",
   "execution_count": 9,
   "metadata": {
    "collapsed": false
   },
   "outputs": [],
   "source": [
    "### Python generator function that applied to fetch batches and do data preprocessing        \n",
    "# https://github.com/justheuristic/prefetch_generator\n",
    "def iterate_minibatches(num_examples, batch_size, X_data, y_data, is_training = 1):\n",
    "    for offset in range(0, num_examples, batch_size):\n",
    "        end = offset + batch_size\n",
    "        batch_x, batch_y = X_data[offset:end], y_data[offset:end]\n",
    "        if is_training == 1:\n",
    "            batch_x, batch_y = generateAugmentedImages(batch_x, batch_y)\n",
    "            batch_x, batch_y = shuffle(batch_x, batch_y)\n",
    "        batch_x = imagestoY(batch_x)\n",
    "        yield batch_x,batch_y\n",
    "\n"
   ]
  },
  {
   "cell_type": "markdown",
   "metadata": {},
   "source": [
    "### Split Data into Training, Validation and Testing Sets"
   ]
  },
  {
   "cell_type": "code",
   "execution_count": 10,
   "metadata": {
    "collapsed": false
   },
   "outputs": [
    {
     "name": "stdout",
     "output_type": "stream",
     "text": [
      "Number of training examples before augmentaion = 31367 and after augmentation = 188202\n",
      "Number of validation examples = 7842\n"
     ]
    }
   ],
   "source": [
    "from sklearn.model_selection import train_test_split\n",
    "X_train, X_validation, y_train, y_validation =   train_test_split(X_train, y_train, test_size=.2, random_state=0)\n",
    "\n",
    "assert(len(X_train) == len(y_train))\n",
    "assert(len(X_validation) == len(y_validation))\n",
    "\n",
    "# Number of training examples\n",
    "n_train = len(X_train)\n",
    "\n",
    "# Number of validation examples.\n",
    "n_validation = len(X_validation)\n",
    "\n",
    "print(\"Number of training examples before augmentaion = {0} and after augmentation = {1}\".format(n_train, n_train*6) )\n",
    "print(\"Number of validation examples =\", n_validation)\n"
   ]
  },
  {
   "cell_type": "markdown",
   "metadata": {},
   "source": [
    "### Model Architecture\n",
    "\n",
    "Model Arch is the same as LeNet but changed the depth of CONV layers to be 12 instead of 6 for the first CONV layer and 48 instead of 12 for the second one.\n",
    "\n",
    "I also added a fully connected layer with 1200-400 followed by 400-120, 120-84, and 84-43\n",
    "\n",
    "Finally, I added a dropout layer for each FC layer with keep prop of 80%"
   ]
  },
  {
   "cell_type": "code",
   "execution_count": 11,
   "metadata": {
    "collapsed": true
   },
   "outputs": [],
   "source": [
    "import tensorflow as tf\n",
    "\n",
    "EPOCHS = 10\n",
    "BATCH_SIZE = 128"
   ]
  },
  {
   "cell_type": "code",
   "execution_count": 12,
   "metadata": {
    "collapsed": true
   },
   "outputs": [],
   "source": [
    "from tensorflow.contrib.layers import flatten\n",
    "\n",
    "def LeNet(x):    \n",
    "    # Arguments used for tf.truncated_normal, randomly defines variables for the weights and biases for each layer\n",
    "    mu = 0\n",
    "    sigma = 0.1\n",
    "    \n",
    "    # Layer 1: Convolutional. Input = 32x32x1. Output = 28x28x12.\n",
    "    conv1_W = tf.Variable(tf.truncated_normal(shape=(5, 5, 1, 12), mean = mu, stddev = sigma))\n",
    "    conv1_b = tf.Variable(tf.zeros(12))\n",
    "    conv1   = tf.nn.conv2d(x, conv1_W, strides=[1, 1, 1, 1], padding='VALID') + conv1_b\n",
    "\n",
    "    # Activation.\n",
    "    conv1 = tf.nn.relu(conv1)\n",
    "\n",
    "    # Pooling. Input = 28x28x12. Output = 14x14x12.\n",
    "    conv1 = tf.nn.max_pool(conv1, ksize=[1, 2, 2, 1], strides=[1, 2, 2, 1], padding='VALID')\n",
    "\n",
    "    # Layer 2: Convolutional. Output = 10x10x48.\n",
    "    conv2_W = tf.Variable(tf.truncated_normal(shape=(5, 5, 12, 48), mean = mu, stddev = sigma))\n",
    "    conv2_b = tf.Variable(tf.zeros(48))\n",
    "    conv2   = tf.nn.conv2d(conv1, conv2_W, strides=[1, 1, 1, 1], padding='VALID') + conv2_b\n",
    "    \n",
    "    # Activation.\n",
    "    conv2 = tf.nn.relu(conv2)\n",
    "\n",
    "    # Pooling. Input = 10x10x48. Output = 5x5x48.\n",
    "    conv2 = tf.nn.max_pool(conv2, ksize=[1, 2, 2, 1], strides=[1, 2, 2, 1], padding='VALID')\n",
    "\n",
    "    # Flatten. Input = 5x5x48. Output = 1200.\n",
    "    fc0   = flatten(conv2)\n",
    "    \n",
    "    # Layer 3: Fully Connected. Input = 1200. Output = 400.\n",
    "    fc1_W = tf.Variable(tf.truncated_normal(shape=(1200, 400), mean = mu, stddev = sigma))\n",
    "    fc1_b = tf.Variable(tf.zeros(400))\n",
    "    fc1   = tf.matmul(fc0, fc1_W) + fc1_b\n",
    "    \n",
    "    # Activation.\n",
    "    fc1    = tf.nn.relu(fc1)\n",
    "    \n",
    "    # Regularization.\n",
    "    fc1    = tf.nn.dropout(fc1, keep_prob)\n",
    "\n",
    "    # Layer 4: Fully Connected. Input = 120. Output = 84.\n",
    "    fc2_W  = tf.Variable(tf.truncated_normal(shape=(400, 120), mean = mu, stddev = sigma))\n",
    "    fc2_b  = tf.Variable(tf.zeros(120))\n",
    "    fc2    = tf.matmul(fc1, fc2_W) + fc2_b\n",
    "    \n",
    "    # Activation.\n",
    "    fc2    = tf.nn.relu(fc2)\n",
    "    \n",
    "    # Regularization.\n",
    "    fc2    = tf.nn.dropout(fc2, keep_prob)\n",
    "\n",
    "    # Layer 5: Fully Connected. Input = 120. Output = 84.\n",
    "    fc3_W  = tf.Variable(tf.truncated_normal(shape=(120, 84), mean = mu, stddev = sigma))\n",
    "    fc3_b  = tf.Variable(tf.zeros(84))\n",
    "    fc3    = tf.matmul(fc2, fc3_W) + fc3_b\n",
    "    \n",
    "    # Activation.\n",
    "    fc3    = tf.nn.relu(fc3)\n",
    "    \n",
    "    # Regularization.\n",
    "    fc3    = tf.nn.dropout(fc3, keep_prob)\n",
    "    \n",
    "    # Layer 6: Fully Connected. Input = 84. Output = 43.\n",
    "    fc4_W  = tf.Variable(tf.truncated_normal(shape=(84, n_classes), mean = mu, stddev = sigma))\n",
    "    fc4_b  = tf.Variable(tf.zeros(n_classes))\n",
    "    logits = tf.matmul(fc3, fc4_W) + fc4_b\n",
    "    \n",
    "    return logits"
   ]
  },
  {
   "cell_type": "markdown",
   "metadata": {},
   "source": [
    "### Features and Labels"
   ]
  },
  {
   "cell_type": "code",
   "execution_count": 13,
   "metadata": {
    "collapsed": true
   },
   "outputs": [],
   "source": [
    "x = tf.placeholder(tf.float32, (None, 32, 32, 1))\n",
    "y = tf.placeholder(tf.int32, (None))\n",
    "one_hot_y = tf.one_hot(y, n_classes)\n",
    "keep_prob = tf.placeholder(tf.float32)"
   ]
  },
  {
   "cell_type": "markdown",
   "metadata": {
    "collapsed": true
   },
   "source": [
    "### Training Pipeline"
   ]
  },
  {
   "cell_type": "code",
   "execution_count": 14,
   "metadata": {
    "collapsed": false
   },
   "outputs": [],
   "source": [
    "rate = 0.001\n",
    "\n",
    "logits = LeNet(x)\n",
    "cross_entropy = tf.nn.softmax_cross_entropy_with_logits(logits, one_hot_y)\n",
    "loss_operation = tf.reduce_mean(cross_entropy)\n",
    "optimizer = tf.train.AdamOptimizer(learning_rate = rate)\n",
    "training_operation = optimizer.minimize(loss_operation)"
   ]
  },
  {
   "cell_type": "markdown",
   "metadata": {},
   "source": [
    "### Train, Validate and Test the Model\n",
    "### Model Evaluation"
   ]
  },
  {
   "cell_type": "code",
   "execution_count": 17,
   "metadata": {
    "collapsed": false
   },
   "outputs": [],
   "source": [
    "correct_prediction = tf.equal(tf.argmax(logits, 1), tf.argmax(one_hot_y, 1))\n",
    "accuracy_operation = tf.reduce_mean(tf.cast(correct_prediction, tf.float32))\n",
    "saver = tf.train.Saver()\n",
    "\n",
    "from prefetch_generator import BackgroundGenerator\n",
    "from confusionmatrix import ConfusionMatrix\n",
    "\n",
    "def evaluate(X_data, y_data):\n",
    "    num_examples = len(X_data)\n",
    "    total_accuracy = 0\n",
    "    confusion_valid = ConfusionMatrix(n_classes)\n",
    "    sess = tf.get_default_session()\n",
    "    for b_x,b_y in BackgroundGenerator(iterate_minibatches(num_examples,BATCH_SIZE, X_data, y_data,0)):\n",
    "        batch_x = np.array([x for x in b_x]) #np.fromiter(b_x,float)\n",
    "        batch_y = np.array([y for y in b_y]) #np.fromiter(b_y,float)\n",
    "        res = sess.run(logits, feed_dict={x: batch_x, y: batch_y, keep_prob: 1})\n",
    "        preds = np.argmax(res, 1)\n",
    "        confusion_valid.batch_add(batch_y, preds)\n",
    "    return confusion_valid #.accuracy()\n",
    "        #accuracy = sess.run(accuracy_operation, feed_dict={x: batch_x, y: batch_y})\n",
    "        #total_accuracy += (accuracy * len(batch_x))\n",
    "    #return total_accuracy / num_examples\n",
    "    #for offset in range(0, num_examples, BATCH_SIZE):\n",
    "        #batch_x, batch_y = X_data[offset:offset+BATCH_SIZE], y_data[offset:offset+BATCH_SIZE]\n",
    "        #accuracy = sess.run(accuracy_operation, feed_dict={x: batch_x, y: batch_y})\n",
    "        #total_accuracy += (accuracy * len(batch_x))\n",
    "    #return total_accuracy / num_examples"
   ]
  },
  {
   "cell_type": "markdown",
   "metadata": {},
   "source": [
    "### Train the Model"
   ]
  },
  {
   "cell_type": "code",
   "execution_count": 18,
   "metadata": {
    "collapsed": false
   },
   "outputs": [
    {
     "name": "stdout",
     "output_type": "stream",
     "text": [
      "Training...\n",
      "\n",
      "EPOCH 1 ...\n",
      "Validation Accuracy = 0.725\n",
      "\n",
      "EPOCH 2 ...\n",
      "Validation Accuracy = 0.945\n",
      "\n",
      "EPOCH 3 ...\n",
      "Validation Accuracy = 0.969\n",
      "\n",
      "EPOCH 4 ...\n",
      "Validation Accuracy = 0.978\n",
      "\n",
      "EPOCH 5 ...\n",
      "Validation Accuracy = 0.987\n",
      "\n",
      "EPOCH 6 ...\n",
      "Validation Accuracy = 0.990\n",
      "\n",
      "EPOCH 7 ...\n",
      "Validation Accuracy = 0.992\n",
      "\n",
      "EPOCH 8 ...\n",
      "Validation Accuracy = 0.992\n",
      "\n",
      "EPOCH 9 ...\n",
      "Validation Accuracy = 0.994\n",
      "\n",
      "EPOCH 10 ...\n",
      "Validation Accuracy = 0.994\n",
      "\n",
      "Model saved\n"
     ]
    }
   ],
   "source": [
    "with tf.Session() as sess:\n",
    "    sess.run(tf.global_variables_initializer())\n",
    "    num_examples = len(X_train)\n",
    "    \n",
    "    print(\"Training...\")\n",
    "    print()\n",
    "    for i in range(EPOCHS):\n",
    "        X_train, y_train = shuffle(X_train, y_train)\n",
    "        for b_x,b_y in BackgroundGenerator(iterate_minibatches(num_examples,BATCH_SIZE, X_train, y_train)):\n",
    "            batch_x = np.array([x for x in b_x]) #np.fromiter(b_x,float)\n",
    "            batch_y = np.array([y for y in b_y]) #np.fromiter(b_y,float)\n",
    "            sess.run(training_operation, feed_dict={x: batch_x, y: batch_y, keep_prob: .8})\n",
    "        #for offset in range(0, num_examples, BATCH_SIZE):\n",
    "            #end = offset + BATCH_SIZE\n",
    "            #batch_x, batch_y = X_train[offset:end], y_train[offset:end]\n",
    "            #sess.run(training_operation, feed_dict={x: batch_x, y: batch_y})\n",
    "            \n",
    "        validation_accuracy = evaluate(X_validation, y_validation)\n",
    "        print(\"EPOCH {} ...\".format(i+1))\n",
    "        print(\"Validation Accuracy = {:.3f}\".format(validation_accuracy.accuracy()))\n",
    "        print()\n",
    "        \n",
    "    saver.save(sess, 'lenetTS')\n",
    "    print(\"Model saved\")"
   ]
  },
  {
   "cell_type": "markdown",
   "metadata": {},
   "source": [
    "### Evaluate the Model"
   ]
  },
  {
   "cell_type": "code",
   "execution_count": 20,
   "metadata": {
    "collapsed": false
   },
   "outputs": [
    {
     "name": "stdout",
     "output_type": "stream",
     "text": [
      "Test Accuracy = 0.954\n"
     ]
    }
   ],
   "source": [
    "with tf.Session() as sess:\n",
    "    saver.restore(sess, tf.train.latest_checkpoint('.'))\n",
    "\n",
    "    test_accuracy = evaluate(X_test, y_test)\n",
    "    print(\"Test Accuracy = {:.3f}\".format(test_accuracy.accuracy()))"
   ]
  },
  {
   "cell_type": "code",
   "execution_count": 19,
   "metadata": {
    "collapsed": false
   },
   "outputs": [
    {
     "ename": "NameError",
     "evalue": "name 'glob' is not defined",
     "output_type": "error",
     "traceback": [
      "\u001b[0;31m---------------------------------------------------------------------------\u001b[0m",
      "\u001b[0;31mNameError\u001b[0m                                 Traceback (most recent call last)",
      "\u001b[0;32m<ipython-input-19-e7643ad486c0>\u001b[0m in \u001b[0;36m<module>\u001b[0;34m()\u001b[0m\n\u001b[1;32m     32\u001b[0m \u001b[0;34m\u001b[0m\u001b[0m\n\u001b[1;32m     33\u001b[0m \u001b[0;34m\u001b[0m\u001b[0m\n\u001b[0;32m---> 34\u001b[0;31m \u001b[0mtest_files\u001b[0m \u001b[0;34m=\u001b[0m \u001b[0;34m[\u001b[0m\u001b[0mfile\u001b[0m \u001b[0;32mfor\u001b[0m \u001b[0mfile\u001b[0m \u001b[0;32min\u001b[0m \u001b[0mglob\u001b[0m\u001b[0;34m.\u001b[0m\u001b[0mglob\u001b[0m\u001b[0;34m(\u001b[0m\u001b[0;34m\"gtsrb/*\"\u001b[0m\u001b[0;34m)\u001b[0m\u001b[0;34m]\u001b[0m\u001b[0;34m\u001b[0m\u001b[0m\n\u001b[0m\u001b[1;32m     35\u001b[0m \u001b[0;34m\u001b[0m\u001b[0m\n\u001b[1;32m     36\u001b[0m \u001b[0;34m\u001b[0m\u001b[0m\n",
      "\u001b[0;31mNameError\u001b[0m: name 'glob' is not defined"
     ]
    }
   ],
   "source": [
    "### Load the images and plot them here.\n",
    "### Feel free to use as many code cells as needed.\n",
    "\n",
    "def display_images(images, cmap=None, num_rows=3):\n",
    "    \"\"\"\n",
    "        Displays an image array a grid with number of rows=num_rows\n",
    "    \"\"\"\n",
    "    num_images = len(images)\n",
    "    num_cols = int(num_images/num_rows)\n",
    "    fig, axes = plt.subplots(num_rows, num_cols)\n",
    "    \n",
    "    for i, ax in enumerate(axes.flat):\n",
    "        # Only plot the valid images\n",
    "        if i < num_images:\n",
    "            img = images[i]\n",
    "\n",
    "            # Plot image.\n",
    "            if(cmap):\n",
    "                ax.imshow(img, cmap=cmap)\n",
    "            else:\n",
    "                ax.imshow(img)\n",
    "\n",
    "def read_images(fileNames, display=True):\n",
    "    images = []\n",
    "    for file in fileNames:\n",
    "        image = cv2.imread(file)\n",
    "        image = image.astype(np.float32)\n",
    "        image = cv2.cvtColor(image, cv2.COLOR_BGR2RGB)\n",
    "        images.append(image)\n",
    "    return images    \n",
    "        \n",
    "    \n",
    "\n",
    "test_files = [file for file in glob.glob(\"gtsrb/*\")]\n",
    "\n",
    "\n",
    "images = read_images(test_files)\n",
    "display_images(images, num_rows=4)\n",
    "\n",
    "x_collected = images\n",
    "y_collected_true = np.array([26, 11, 40, 12, 18, 11, 23, 14])\n",
    "y_collected_true_one_hot = encode_labels(y_collected_true)"
   ]
  },
  {
   "cell_type": "code",
   "execution_count": null,
   "metadata": {
    "collapsed": true
   },
   "outputs": [],
   "source": []
  }
 ],
 "metadata": {
  "anaconda-cloud": {},
  "kernelspec": {
   "display_name": "Python 3",
   "language": "python",
   "name": "python3"
  },
  "language_info": {
   "codemirror_mode": {
    "name": "ipython",
    "version": 3
   },
   "file_extension": ".py",
   "mimetype": "text/x-python",
   "name": "python",
   "nbconvert_exporter": "python",
   "pygments_lexer": "ipython3",
   "version": "3.5.2"
  },
  "widgets": {
   "state": {},
   "version": "1.1.2"
  }
 },
 "nbformat": 4,
 "nbformat_minor": 2
}
